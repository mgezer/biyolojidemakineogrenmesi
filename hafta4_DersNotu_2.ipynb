{
 "cells": [
  {
   "cell_type": "markdown",
   "id": "178e3bbc",
   "metadata": {
    "slideshow": {
     "slide_type": "slide"
    }
   },
   "source": [
    "# Eksik Veri Doldurma Stratejileri\n",
    "\n",
    "\n",
    "Gen ekspresyon verilerinde eksik değerler çeşitli nedenlerle ortaya çıkabilir: deneysel hatalar, ölçüm sorunları, kalite kontrol filtrelemesi veya veri işleme adımları sırasında oluşan kayıplar. Bu eksik değerlerin nasıl ele alınacağı, aşağı akış analizlerinin sonuçlarını önemli ölçüde etkileyebilir."
   ]
  },
  {
   "cell_type": "markdown",
   "id": "04814634",
   "metadata": {
    "slideshow": {
     "slide_type": "slide"
    }
   },
   "source": [
    "\n",
    "-   **Eksik Veri Problemi Nedir?**\n",
    "    -   Gen ekspresyon verilerinde eksik değerler sık karşılaşılan bir problemdir\n",
    "    -   Deneysel hatalar, ölçüm sorunları, veri işleme süreçleri veya kalite kontrol filtreleme sonucu oluşabilir\n",
    "    -   Makine öğrenmesi, istatistiksel analizler ve biyolojik çıkarımlar eksik değerlerden olumsuz etkilenir\n",
    "-   **Neden Önemlidir?**\n",
    "    -   Eksik veriler analiz sonuçlarını çarpıtabilir\n",
    "    -   Veri kümesindeki bilgi kaybına neden olur\n",
    "    -   Aşağı akış analizlerinin doğruluğunu azaltır"
   ]
  },
  {
   "cell_type": "markdown",
   "id": "d1fdc92b",
   "metadata": {
    "slideshow": {
     "slide_type": "slide"
    }
   },
   "source": [
    "## Eksik Veri \n",
    "\n",
    "Eksik veri mekanizmaları, verilerin neden ve nasıl eksik olduğunu açıklayan teorik bir çerçevedir. Bu mekanizmalar, eksikliğin rastgele olup olmadığını veya belirli örüntüler izleyip izlemediğini tanımlar. 1976 yılında Donald Rubin tarafından önerilen bu sınıflandırma, eksik verilerin analizinde ve doldurma stratejilerinin (imputation) seçiminde kritik bir rol oynar.\n",
    "Eksik veri mekanizmaları genellikle üç ana kategoriye ayrılır:\n"
   ]
  },
  {
   "cell_type": "markdown",
   "id": "7216877f",
   "metadata": {
    "slideshow": {
     "slide_type": "slide"
    }
   },
   "source": [
    "### Tamamen Rastgele Eksik (MCAR - Missing Completely At Random)\n",
    "\n",
    "**Tanım:**  Tamamen Rastgele Eksik (MCAR), veri setindeki eksik değerlerin ne gözlenen verilere ne de eksik olan değerlere bağlı olduğu bir eksiklik mekanizmasını ifade eder. Başka bir deyişle, eksikliğin nedeni tamamen rastgeledir ve veri setindeki hiçbir değişken veya sistematik örüntü ile ilişkili değildir. MCAR durumu, en basit ve analiz açısından en kolay ele alınabilecek eksiklik türüdür.\n",
    "\n",
    "**Özellikler:**\n",
    "\n",
    "1. **Rastgele Dağılım:**  \n",
    "   Eksik veriler, veri setinde herhangi bir düzen, desen veya sistematik örüntü izlemez. Örneğin, bir gen ekspresyon matrisinde bazı hücrelerin eksik olması, bu hücrelerin konumuna, değerlerine veya diğer değişkenlere bağlı değildir.\n",
    "\n",
    "2. **Diğer Değişkenlerle İlişki Yok:**  \n",
    "   Eksiklik, veri setindeki diğer değişkenlerle (örneğin, gen ifadeleri, örnek özellikleri veya kovaryantlar) ilişkili değildir. Başka bir deyişle, eksikliğin nedeni ölçülen veya ölçülemeyen faktörlerden bağımsızdır.\n",
    "\n",
    "3. **Sistematik Örüntü İçermeme:**  \n",
    "   Verinin kendisi veya diğer değişkenlerle ilgili herhangi bir sistematik örüntü bulunmaz. Eksiklik tamamen rastgele gerçekleşir ve belirli bir alt grup veya koşulu hedef almaz.\n",
    "\n",
    "**Gen Ekspresyon Örneği:**\n",
    "\n",
    "-   Laboratuvar kazası sonucu mikroarray kuyucuklarındaki hasarlar\n",
    "-   RNA ekstraksiyon sürecinde rastgele teknik hatalar\n",
    "-   Örneklerin rastgele kontaminasyonu\n",
    "\n",
    "**Teşhis Yöntemleri:**\n",
    "\n",
    "-   Eksik ve tam verilerin ortalama karşılaştırmaları\n",
    "-   Little'ın MCAR testi\n",
    "-   Eksik veri desen analizleri\n",
    "\n",
    "**Uygun Doldurma Stratejileri:**\n",
    "\n",
    "-   İstatistiksel olarak herhangi bir yöntem kullanılabilir\n",
    "-   Basit yöntemler (ortalama, medyan) yeterli olabilir\n",
    "-   Örneklerin silinmesi bile ciddi bir yanlılık oluşturmaz"
   ]
  },
  {
   "cell_type": "markdown",
   "id": "68a1f366",
   "metadata": {
    "slideshow": {
     "slide_type": "slide"
    }
   },
   "source": [
    "### Rastgele Eksik (MAR - Missing At Random)\n",
    "\n",
    "**Tanım:**  Rastgele Eksik (MAR), eksik veri olasılığının gözlenmeyen değerlerden bağımsız olduğu ancak gözlenen diğer değişkenlerle ilişkili olduğu bir eksiklik mekanizmasını ifade eder. Başka bir deyişle, eksikliğin nedeni veri setindeki ölçülen veya gözlenen değişkenlerden çıkarılabilir. MAR durumu, gen ekspresyon analizleri gibi yüksek boyutlu veri setlerinde sık karşılanan bir eksiklik türüdür.\n",
    "\n",
    "\n",
    "**Özellikler:**\n",
    "\n",
    "1. **Eksiklik Belirli Değişkenlerle İlişkilidir:**  \n",
    "   Eksik verilerin dağılımı, gözlenen bir veya daha fazla değişkenle ilişkilidir. Örneğin, belirli bir hücre tipinde düşük gen ekspresyon seviyelerine sahip genlerde eksiklik oranı daha yüksek olabilir.\n",
    "\n",
    "2. **Eksik Değerler Tahmin Edilemez:**  \n",
    "   Eksik değerlerin kendisi doğrudan tahmin edilemez; ancak eksikliğin nedeni, gözlenen değişkenler üzerinden modelleştirilebilir. Bu, eksikliğin sistematik bir örüntü izlediğini gösterir.\n",
    "\n",
    "3. **Sistematik Örüntüler Gözlenen Verilerle Açıklanabilir:**  \n",
    "   Veri setindeki eksiklik desenleri, gözlenen diğer değişkenlerle açıklanabilir. Örneğin, belirli deney koşullarında veya örnek özelliklerinde daha fazla eksiklik gözlenebilir.\n",
    "\n",
    "**Gen Ekspresyon Örneği:**\n",
    "\n",
    "-   Belirli bir hücre tipinde (gözlenen) ekspresyon seviyesi düşük olan genlerde eksiklik\n",
    "-   Yüksek ekspresyon seviyelerine sahip genler için daha düşük eksiklik oranı\n",
    "-   Belirli deneylerde veya koşullarda (gözlenen) daha yüksek eksiklik\n",
    "\n",
    "**Teşhis Yöntemleri:**\n",
    "\n",
    "-   Eksiklik örüntülerinin diğer değişkenlerle ilişkisinin analizi\n",
    "-   Lojistik regresyon modelleri ile eksiklik tahminleri\n",
    "-   Heat map ve kümeleme analizleri ile eksiklik paternlerinin keşfi\n",
    "\n",
    "**Uygun Doldurma Stratejileri:**\n",
    "\n",
    "-   Değişkenler arası ilişkileri modelleyen yöntemler\n",
    "-   KNN (K-En Yakın Komşu)\n",
    "-   Regresyon tabanlı doldurma\n",
    "-   Multiple Imputation (Çoklu Doldurma)\n"
   ]
  },
  {
   "cell_type": "markdown",
   "id": "6ba59580",
   "metadata": {
    "slideshow": {
     "slide_type": "slide"
    }
   },
   "source": [
    "\n",
    "### Rastgele Olmayan Eksik (MNAR - Missing Not At Random)\n",
    "\n",
    "**Tanım:**  Rastgele Olmayan Eksik (MNAR), eksik veri olasılığının hem gözlenmeyen değerlerin kendisine bağlı olduğu hem de veri setindeki mevcut değişkenlerle tam olarak açıklanamadığı bir eksiklik mekanizmasını ifade eder. Bu durumda, eksikliğin nedeni doğrudan eksik olan verinin büyüklüğü veya niteliğiyle ilişkilidir ve bu ilişkiyi anlamak için ek bilgi veya modelleme gerektirir. MNAR, en karmaşık eksiklik türüdür çünkü eksik verilerin altındaki sistematik örüntüler \"gizli\" faktörlere bağlıdır ve analizde ciddi zorluklar ortaya çıkarır.\n",
    "\n",
    "**Özellikler:**\n",
    "\n",
    "1. **Eksiklik, Eksik Değerin Kendisiyle İlişkilidir:**  \n",
    "   Eksik verilerin dağılımı, eksik olan değerlerin büyüklüğü veya niteliğiyle doğrudan ilişkilidir. Örneğin, bir genin ekspresyon seviyesi çok düşük olduğunda ölçüm yapılamaması veya filtrelenmesi MNAR’ın tipik bir özelliğidir.\n",
    "\n",
    "2. **Eksikliğin Nedeni Tam Olarak Açıklanamaz:**  \n",
    "   Eksikliğin nedeni, veri setindeki mevcut değişkenlerle (örneğin, doku tipi veya tedavi grubu) tam olarak açıklanamaz. Bu, eksikliğin gizli veya ölçülemeyen faktörlerle ilişkili olduğunu gösterir.\n",
    "\n",
    "3. **Sistematik Eksiklik \"Gizli Nedenlerle\" İlişkilidir:**  \n",
    "   Eksiklik, belirli bir sistematik örüntü izler ancak bu örüntü doğrudan gözlenemez. Örneğin, bir ölçüm cihazının belirli bir eşik değerinin altında kalan verileri kaydetmemesi gibi teknik sınırlamalar MNAR’a örnek olarak gösterilebilir.\n",
    "\n",
    "**Gen Ekspresyon Örneği:**\n",
    "\n",
    "-   Ekspresyon seviyesi çok düşük olan genlerin tespit edilememesi\n",
    "-   Mikroarray tarama sırasında belirli sinyal eşiklerinin altında kalan değerler\n",
    "-   Belirli bir ekspresyon değerinin altındaki değerlerin \"sıfır\" olarak kaydedilmesi\n",
    "-   RNA-seq deneylerinde düşük okuma değerlerine sahip genlerin filtrelenmesi\n",
    "\n",
    "**Teşhis Yöntemleri:**\n",
    "\n",
    "-   Genellikle doğrudan test edilemez (çünkü eksik verinin kendisi gözlenemez)\n",
    "-   Hassasiyet analizleri\n",
    "-   Domain bilgisi ve veri toplama süreci hakkında bilgi gerektirir\n",
    "-   Simülasyon ve model karşılaştırmalarıyla değerlendirme\n",
    "\n",
    "**Uygun Doldurma Stratejileri:**\n",
    "\n",
    "-   Standart doldurma yöntemleri genellikle yetersiz kalır\n",
    "-   Özel modeller gerektirir:\n",
    "    -   Selection models (Seçim modelleri)\n",
    "    -   Pattern-mixture models (Desen-karışım modelleri)\n",
    "    -   Shared-parameter models (Paylaşılan-parametre modelleri)\n",
    "-   MNAR mekanizmasını açıkça modelleyen yöntemler\n",
    "-   Domain bilgisine dayalı özel doldurma stratejileri"
   ]
  },
  {
   "cell_type": "markdown",
   "id": "f40c8bb5",
   "metadata": {
    "slideshow": {
     "slide_type": "slide"
    }
   },
   "source": [
    "## Eksik Veri Doldurma Yaklaşımları\n",
    "\n",
    "Eksik veri problemi, gen ekspresyon analizlerinde sık karşılaşılan bir zorluktur ve bu sorunun ele alınması için çeşitli yaklaşımlar geliştirilmiştir. Bu yaklaşımlar, eksik verilerin doğasına, veri setinin büyüklüğüne ve analizin amacına bağlı olarak seçilir. Aşağıda, temel yaklaşımlar, doldurma stratejilerinin önemi ve değerlendirme kriterleri detaylı bir şekilde açıklanmıştır.\n",
    "\n",
    "\n"
   ]
  },
  {
   "cell_type": "markdown",
   "id": "09406909",
   "metadata": {
    "slideshow": {
     "slide_type": "slide"
    }
   },
   "source": [
    "### **Temel Yaklaşımlar**\n",
    "\n",
    "#### **1. Eksik Verileri Silme (Örnekleri veya Genleri Çıkarma)**  \n",
    "Bu yöntemde, eksik verilere sahip örnekler veya genler tamamen çıkarılır. Ancak, bu yaklaşım bazı dezavantajlara sahiptir:\n",
    "- **Avantajlar:**\n",
    "  - Basit ve hızlıdır.\n",
    "  - Analizi karmaşıklaştırma riskini azaltır.\n",
    "- **Dezavantajlar:**\n",
    "  - Yüksek boyutlu veri setlerinde ciddi bilgi kaybına yol açabilir.\n",
    "  - Örnek veya gen sayısının az olduğu durumlarda analiz gücünü düşürebilir.\n",
    "  - Sistemli eksiklikler varsa, yanlı sonuçlar üretebilir.\n",
    "\n",
    "#### **2. Eksik Verileri Doldurma (Imputation)**  \n",
    "Eksik veriler, tahmin edilen değerlerle doldurulur. Bu yöntem, veri boyutunu korur ve bilgi kaybını en aza indirir. Farklı doldurma teknikleri şunlardır:\n",
    "- **Basit Yöntemler:** Ortalama, medyan veya mod gibi istatistiksel ölçümler kullanılır.\n",
    "- **Karmaşık Yöntemler:** K-En Yakın Komşu (KNN), regresyon tabanlı doldurma, çoklu doldurma (Multiple Imputation) gibi yöntemler.\n",
    "- **Makine Öğrenmesi Tabanlı Yöntemler:** Rassal ormanlar, derin öğrenme modelleri gibi gelişmiş algoritmalar.\n",
    "\n",
    "#### **3. Eksik Verileri İşleyebilen Algoritmalar Kullanma**  \n",
    "Bazı algoritmalar, eksik verileri doğrudan işleme yeteneğine sahiptir. Örneğin:\n",
    "- **EM Algoritması (Expectation-Maximization):** Eksik verileri tahmin ederek model parametrelerini optimize eder.\n",
    "- **Bayesçi Yöntemler:** Gizli faktörleri hesaba katarak eksik verileri modellemeye dahil eder.\n",
    "- **Sıralı Analiz Yöntemleri:** Eksik verileri sıralı olarak işleyen özel algoritmalar kullanılır.\n",
    "\n",
    "### **Doldurma Stratejilerinin Önemi**\n",
    "\n",
    "Eksik verilerin doldurulması, özellikle gen ekspresyon analizlerinde kritik öneme sahiptir. Doldurma stratejileri aşağıdaki avantajları sağlar:\n",
    "\n",
    "1. **Veri Boyutunu Korur:**  \n",
    "   Örneklerin veya genlerin çıkarılması yerine, eksik veriler doldurularak veri setinin bütünlüğü korunur.\n",
    "\n",
    "2. **Silmeye Göre Daha Az Bilgi Kaybı:**  \n",
    "   Doldurma yöntemleri, silme yöntemlerine kıyasla daha az bilgi kaybına neden olur ve analiz gücünü artırır.\n",
    "\n",
    "3. **Gen Ekspresyon Verilerinde Örneklerin Tamamını Kullanma Olanağı:**  \n",
    "   Özellikle küçük veri setlerinde, tüm örneklerin kullanılması analizin güvenilirliğini artırır.\n",
    "\n",
    "4. **Biyoistatistiksel Analizlerde Süreklilik Sağlar:**  \n",
    "   Doldurma, diferansiyel ifade analizi, kümeleme ve sınıflandırma gibi aşağı akış analizlerinde kesintisiz bir süreç sağlar."
   ]
  },
  {
   "cell_type": "markdown",
   "id": "866740ba",
   "metadata": {
    "slideshow": {
     "slide_type": "slide"
    }
   },
   "source": [
    "#### Ortalama ile Doldurma\n",
    "\n",
    "-   **Yöntem**\n",
    "    -   Her gen için mevcut tüm örneklerin ortalama ekspresyon değeri hesaplanır\n",
    "    -   Eksik değerler bu ortalama ile doldurulur\n",
    "-   **Avantajlar**\n",
    "    -   Basit ve hızlı uygulanabilir\n",
    "    -   Hesaplama maliyeti düşüktür\n",
    "    -   Dağılımın merkezi eğilimini korur\n",
    "-   **Dezavantajlar**\n",
    "    -   Veri varyansını azaltır\n",
    "    -   Aykırı değerlerden etkilenir\n",
    "    -   Veriler arasındaki korelasyonları dikkate almaz\n",
    "-   **Uygun Olduğu Durumlar**\n",
    "    -   Eksik değerlerin rastgele dağıldığı durumlar\n",
    "    -   Düşük eksik veri oranlarında tercih edilebilir\n",
    "    -   Hızlı bir ön analiz istendiğinde"
   ]
  },
  {
   "cell_type": "markdown",
   "id": "6aaaadeb",
   "metadata": {},
   "source": [
    "#### Medyan ile Doldurma\n",
    "\n",
    "-   **Yöntem**\n",
    "    -   Her gen için mevcut tüm örneklerin medyan ekspresyon değeri hesaplanır\n",
    "    -   Eksik değerler bu medyan ile doldurulur\n",
    "-   **Avantajlar**\n",
    "    -   Aykırı değerlerden daha az etkilenir\n",
    "    -   Dağılımın merkezi eğilimini daha sağlam (robust) temsil eder\n",
    "    -   Çarpık dağılımlarda ortalamadan daha iyi sonuç verir\n",
    "-   **Dezavantajlar**\n",
    "    -   Örnekler arası korelasyonları dikkate almaz\n",
    "    -   Biyolojik alt grupların varlığında yetersiz kalabilir\n",
    "-   **Uygun Olduğu Durumlar**\n",
    "    -   Aykırı değerler içeren gen ekspresyon verilerinde\n",
    "    -   Çarpık dağılıma sahip genlerde\n",
    "    -   Robust tahminler gerektiğinde"
   ]
  },
  {
   "cell_type": "markdown",
   "id": "0d513cbf",
   "metadata": {
    "slideshow": {
     "slide_type": "slide"
    }
   },
   "source": [
    "\n",
    "#### Sabit Değer (0) ile Doldurma\n",
    "\n",
    "-   **Yöntem**\n",
    "    -   Tüm eksik ekspresyon değerleri sabit bir değer (genellikle 0) ile doldurulur\n",
    "-   **Avantajlar**\n",
    "    -   En basit ve en hızlı yöntemdir\n",
    "    -   Uygulanması çok kolaydır\n",
    "    -   Bazı RNA-seq verilerinde sıfır değeri \"eksprese edilmemiş\" geni temsil edebilir\n",
    "-   **Dezavantajlar**\n",
    "    -   Genellikle biyolojik gerçekliği yansıtmaz\n",
    "    -   Veri yapısını bozabilir\n",
    "    -   Aşağı akış analizlerinde ciddi sapmalara neden olabilir\n",
    "-   **Uygun Olduğu Durumlar**\n",
    "    -   Eksik değerlerin, eşik altı ekspresyon seviyelerini temsil ettiği durumlarda\n",
    "    -   RNA-seq verilerinde sıfır okuma durumlarında\n",
    "    -   Teknik nedenlerle ölçülemeyen değerler için"
   ]
  },
  {
   "cell_type": "markdown",
   "id": "ecf601f4",
   "metadata": {
    "slideshow": {
     "slide_type": "slide"
    }
   },
   "source": [
    "#### Forward Fill (Önceki Değer ile Doldurma)\n",
    "\n",
    "-   **Yöntem**\n",
    "    -   Eksik değer, bir önceki gözlemin değeri ile doldurulur\n",
    "    -   Eğer ilk değerler eksikse, sonraki değerlerle doldurulur (backward fill)\n",
    "-   **Avantajlar**\n",
    "    -   Zaman serisi verileri için uygundur\n",
    "    -   Basit ve sezgisel bir yaklaşımdır\n",
    "    -   Ardışık örnekler arasındaki ilişkiyi korur\n",
    "-   **Dezavantajlar**\n",
    "    -   Gen ekspresyon verilerinde örnekler genellikle anlamlı bir sıraya sahip değildir\n",
    "    -   Örnekler arası sıra önemliyse (örn. zaman serisi) mantıklıdır, aksi halde yanıltıcı olabilir\n",
    "-   **Uygun Olduğu Durumlar**\n",
    "    -   Zaman serisi gen ekspresyon deneyleri\n",
    "    -   Örneklerin sıralı olduğu deneysel tasarımlar\n",
    "    -   Tek bir eksik değerin öncesi ve sonrası değerlerden çıkarılabileceği durumlar"
   ]
  },
  {
   "cell_type": "markdown",
   "id": "cbd93950",
   "metadata": {
    "slideshow": {
     "slide_type": "slide"
    }
   },
   "source": [
    "#### Doğrusal İnterpolasyon\n",
    "\n",
    "-   **Yöntem**\n",
    "    -   Eksik değerler, mevcut değerler arasında doğrusal bir ilişki olduğu varsayılarak tahmin edilir\n",
    "    -   Komşu değerler arasında doğrusal bir çizgi çizilerek ara değerler belirlenir\n",
    "-   **Avantajlar**\n",
    "    -   Düzgün geçişli tahminler oluşturur\n",
    "    -   Trend bilgisini korur\n",
    "    -   Forward/backward fill'den daha sofistikedir\n",
    "-   **Dezavantajlar**\n",
    "    -   Gen ekspresyon verilerinde örnekler arası doğrusal ilişki varsayımı gerçekçi olmayabilir\n",
    "    -   Sıralı olmayan veriler için uygun değildir\n",
    "-   **Uygun Olduğu Durumlar**\n",
    "    -   Ekspresyon değerlerinin belirli bir düzen veya trend izlediği durumlar\n",
    "    -   Zaman serisi deneyleri veya doz yanıt çalışmaları\n",
    "    -   Komşu değerler arasında anlamlı bir ilişki olduğu bilinen durumlar"
   ]
  },
  {
   "cell_type": "markdown",
   "id": "401b53f1",
   "metadata": {
    "slideshow": {
     "slide_type": "slide"
    }
   },
   "source": [
    "#### K-En Yakın Komşu (KNN) ile Doldurma\n",
    "\n",
    "-   **Yöntem**\n",
    "    -   Eksik değere sahip bir örneğin en benzer k komşusu belirlenir\n",
    "    -   Bu komşuların ağırlıklı ortalaması alınarak eksik değer doldurulur\n",
    "-   **Avantajlar**\n",
    "    -   Örnekler arasındaki benzerlik ilişkilerini kullanır\n",
    "    -   Biyolojik alt grupların varlığında daha iyi performans gösterir\n",
    "    -   Lokal veri yapısını korur\n",
    "-   **Dezavantajlar**\n",
    "    -   Hesaplama açısından daha yoğundur\n",
    "    -   K değerinin seçimi sonuçları etkileyebilir\n",
    "    -   Yüksek boyutlu verilerde mesafe hesaplama sorunları olabilir\n",
    "-   **Uygun Olduğu Durumlar**\n",
    "    -   Farklı hücre tipleri, dokular veya tedavi koşulları içeren heterojen veri setlerinde\n",
    "    -   Benzer ekspresyon profillerine sahip genler arasında ilişki olduğu bilinen durumlarda\n",
    "    -   Biyolojik grupların varlığında"
   ]
  },
  {
   "cell_type": "markdown",
   "id": "b3d2fa89",
   "metadata": {
    "slideshow": {
     "slide_type": "slide"
    }
   },
   "source": [
    "\n",
    "### Doldurma Stratejilerinin Karşılaştırmalı Analizi\n",
    "\n",
    "-   **MSE (Ortalama Karesel Hata)**\n",
    "    -   Genellikle KNN ve İnterpolasyon daha düşük MSE değerleri sağlar\n",
    "    -   Sabit değer doldurma en yüksek hataya sahiptir\n",
    "-   **Değer Dağılımları**\n",
    "    -   Ortalama ve medyan doldurma veri dağılımını daraltır\n",
    "    -   KNN, orijinal dağılıma en yakın dağılımı oluşturur\n",
    "-   **Biyolojik Paternlerin Korunması**\n",
    "    -   KNN ve doğrusal interpolasyon genellikle gen ekspresyon paternlerini daha iyi korur\n",
    "    -   Sabit değer doldurma biyolojik paternleri bozabilir\n",
    "-   **Hesaplama Karmaşıklığı**\n",
    "    -   Basit yöntemler: Sabit, Ortalama, Medyan\n",
    "    -   Orta düzey: Forward Fill, İnterpolasyon\n",
    "    -   Karmaşık: KNN"
   ]
  },
  {
   "cell_type": "markdown",
   "id": "c461dfb9",
   "metadata": {
    "slideshow": {
     "slide_type": "slide"
    }
   },
   "source": [
    "\n",
    "## Eksik Veri Doldurma Stratejisi Seçimi\n",
    "\n",
    "-   **Eksik Veri Mekanizması**\n",
    "    -   Tamamen rastgele eksik (MCAR): Herhangi bir yöntem kullanılabilir\n",
    "    -   Rastgele eksik (MAR): KNN gibi ilişkileri modelleyen yöntemler tercih edilmeli\n",
    "    -   Rastgele olmayan eksik (MNAR): Özel doldurma yöntemleri gerekebilir\n",
    "-   **Veri Özellikleri**\n",
    "    -   Veri boyutu: Büyük veri setlerinde hesaplama maliyeti düşünülmeli\n",
    "    -   Veri heterojenliği: Heterojen verilerde KNN daha iyi sonuç verebilir\n",
    "    -   Aykırı değerler: Medyan doldurma daha dirençlidir\n",
    "-   **Pratik Öneriler**\n",
    "    -   Birden fazla yöntemi karşılaştırın\n",
    "    -   Doldurmanın aşağı akış analizleri üzerindeki etkisini değerlendirin\n",
    "    -   Biyolojik anlamlılığı her zaman göz önünde bulundurun"
   ]
  },
  {
   "cell_type": "markdown",
   "id": "04b07981",
   "metadata": {
    "slideshow": {
     "slide_type": "slide"
    }
   },
   "source": [
    "## Sonuç ve Öneriler\n",
    "\n",
    "-   **Özet**\n",
    "    -   Eksik veri doldurma, gen ekspresyon analizlerinde kritik bir adımdır\n",
    "    -   Doldurma stratejisi, veri özelliklerine ve analiz hedeflerine göre seçilmelidir\n",
    "    -   Basit yöntemler hızlı olsa da daha karmaşık yöntemler genellikle daha doğru sonuçlar verir\n",
    "-   **En İyi Uygulamalar**\n",
    "    -   Eksik veri oranı düşükse: Ortalama veya medyan doldurma kullanılabilir\n",
    "    -   İlişkili gen ekspresyon paternleri önemliyse: KNN tercih edilir\n",
    "    -   Zaman serisi verilerinde: İnterpolasyon yöntemleri uygun olabilir\n",
    "    -   Aykırı değerler varsa: Medyan doldurma tercih edilir\n",
    "-   **İleri Düzey Yaklaşımlar**\n",
    "    -   Çoklu doldurma (Multiple Imputation)\n",
    "    -   Matris tamamlama yöntemleri\n",
    "    -   Derin öğrenme tabanlı doldurma teknikleri"
   ]
  },
  {
   "cell_type": "markdown",
   "id": "cd687073",
   "metadata": {
    "slideshow": {
     "slide_type": "slide"
    }
   },
   "source": [
    "\n",
    "## Kaynaklar ve İleri Okuma\n",
    "\n",
    "-   **Önerilen Makaleler**\n",
    "    -   Troyanskaya O, et al. (2001). Missing value estimation methods for DNA microarrays. Bioinformatics\n",
    "    -   Oba S, et al. (2003). A Bayesian missing value estimation method for gene expression profile data. Bioinformatics\n",
    "    -   Brock GN, et al. (2008). Which missing value imputation method to use in expression profiles. BMC Bioinformatics\n",
    "-   **Yazılım Paketleri**\n",
    "    -   R: impute, mice, missForest\n",
    "    -   Python: scikit-learn (KNNImputer, SimpleImputer), missingpy\n",
    "    -   Bioconductor: impute, pcaMethods\n",
    "-   **Web Kaynakları**\n",
    "    -   GEO (Gene Expression Omnibus):  [https://www.ncbi.nlm.nih.gov/geo/](https://www.ncbi.nlm.nih.gov/geo/)\n",
    "    -   ArrayExpress:  [https://www.ebi.ac.uk/arrayexpress/](https://www.ebi.ac.uk/arrayexpress/)"
   ]
  },
  {
   "cell_type": "code",
   "execution_count": null,
   "id": "cc400110",
   "metadata": {},
   "outputs": [],
   "source": []
  }
 ],
 "metadata": {
  "celltoolbar": "Slideshow",
  "kernelspec": {
   "display_name": "Python 3 (ipykernel)",
   "language": "python",
   "name": "python3"
  },
  "language_info": {
   "codemirror_mode": {
    "name": "ipython",
    "version": 3
   },
   "file_extension": ".py",
   "mimetype": "text/x-python",
   "name": "python",
   "nbconvert_exporter": "python",
   "pygments_lexer": "ipython3",
   "version": "3.12.8"
  },
  "toc": {
   "base_numbering": 1,
   "nav_menu": {},
   "number_sections": true,
   "sideBar": true,
   "skip_h1_title": false,
   "title_cell": "Table of Contents",
   "title_sidebar": "Contents",
   "toc_cell": false,
   "toc_position": {},
   "toc_section_display": true,
   "toc_window_display": false
  },
  "varInspector": {
   "cols": {
    "lenName": 16,
    "lenType": 16,
    "lenVar": 40
   },
   "kernels_config": {
    "python": {
     "delete_cmd_postfix": "",
     "delete_cmd_prefix": "del ",
     "library": "var_list.py",
     "varRefreshCmd": "print(var_dic_list())"
    },
    "r": {
     "delete_cmd_postfix": ") ",
     "delete_cmd_prefix": "rm(",
     "library": "var_list.r",
     "varRefreshCmd": "cat(var_dic_list()) "
    }
   },
   "types_to_exclude": [
    "module",
    "function",
    "builtin_function_or_method",
    "instance",
    "_Feature"
   ],
   "window_display": false
  }
 },
 "nbformat": 4,
 "nbformat_minor": 5
}
